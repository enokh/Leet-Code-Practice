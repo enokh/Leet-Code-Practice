{
 "cells": [
  {
   "cell_type": "markdown",
   "id": "500dd29f",
   "metadata": {},
   "source": [
    "### 322. Coin Change"
   ]
  },
  {
   "cell_type": "code",
   "execution_count": 180,
   "id": "5e9baf79",
   "metadata": {},
   "outputs": [],
   "source": [
    "def coinChange(coins, amount):\n",
    "    \n",
    "    coins.sort(reverse=True)\n",
    "    \n",
    "    if amount == 0:\n",
    "        return 0\n",
    "    \n",
    "    cc = [10001] * (amount+1)\n",
    "    cc[0] = 0\n",
    "  \n",
    "    for i in range(1, amount + 1):\n",
    "        for coin in coins:\n",
    "            if coin <= i:\n",
    "                rem = cc[i - coin]\n",
    "                if rem != 10001 and rem + 1 < cc[i]:\n",
    "                    cc[i] = rem + 1\n",
    "                \n",
    "    #print(cc)              \n",
    "    if cc[amount]==10001:\n",
    "        return -1\n",
    "    else:\n",
    "        return cc[amount]\n",
    "    "
   ]
  },
  {
   "cell_type": "code",
   "execution_count": null,
   "id": "2ccb9163",
   "metadata": {},
   "outputs": [],
   "source": []
  },
  {
   "cell_type": "markdown",
   "id": "6b31d636",
   "metadata": {},
   "source": [
    "#### Test case 1"
   ]
  },
  {
   "cell_type": "code",
   "execution_count": 181,
   "id": "07ad29e5",
   "metadata": {},
   "outputs": [],
   "source": [
    "coins = [1,2,5]\n",
    "amount = 11"
   ]
  },
  {
   "cell_type": "code",
   "execution_count": 182,
   "id": "a70765fc",
   "metadata": {},
   "outputs": [
    {
     "name": "stdout",
     "output_type": "stream",
     "text": [
      "[0, 1, 1, 2, 2, 1, 2, 2, 3, 3, 2, 3]\n"
     ]
    },
    {
     "data": {
      "text/plain": [
       "3"
      ]
     },
     "execution_count": 182,
     "metadata": {},
     "output_type": "execute_result"
    }
   ],
   "source": [
    "coinChange(coins, amount)"
   ]
  },
  {
   "cell_type": "markdown",
   "id": "14239449",
   "metadata": {},
   "source": [
    "#### Test case 2"
   ]
  },
  {
   "cell_type": "code",
   "execution_count": 183,
   "id": "9c006fe7",
   "metadata": {},
   "outputs": [],
   "source": [
    "coins = [2]\n",
    "amount = 3"
   ]
  },
  {
   "cell_type": "code",
   "execution_count": 184,
   "id": "935c3250",
   "metadata": {},
   "outputs": [
    {
     "name": "stdout",
     "output_type": "stream",
     "text": [
      "[0, 10001, 1, 10001]\n"
     ]
    },
    {
     "data": {
      "text/plain": [
       "-1"
      ]
     },
     "execution_count": 184,
     "metadata": {},
     "output_type": "execute_result"
    }
   ],
   "source": [
    "coinChange(coins, amount)"
   ]
  },
  {
   "cell_type": "markdown",
   "id": "02a34284",
   "metadata": {},
   "source": [
    "#### Test case 3"
   ]
  },
  {
   "cell_type": "code",
   "execution_count": 185,
   "id": "2d1eeb8b",
   "metadata": {},
   "outputs": [],
   "source": [
    "coins = [2]\n",
    "amount = 3"
   ]
  },
  {
   "cell_type": "code",
   "execution_count": 186,
   "id": "be984e8e",
   "metadata": {},
   "outputs": [
    {
     "name": "stdout",
     "output_type": "stream",
     "text": [
      "[0, 10001, 1, 10001]\n"
     ]
    },
    {
     "data": {
      "text/plain": [
       "-1"
      ]
     },
     "execution_count": 186,
     "metadata": {},
     "output_type": "execute_result"
    }
   ],
   "source": [
    "coinChange(coins, amount)"
   ]
  },
  {
   "cell_type": "markdown",
   "id": "6791fbb0",
   "metadata": {},
   "source": [
    "#### Test case 4"
   ]
  },
  {
   "cell_type": "code",
   "execution_count": 187,
   "id": "7487b399",
   "metadata": {},
   "outputs": [],
   "source": [
    "coins = [2]\n",
    "amount = 4"
   ]
  },
  {
   "cell_type": "code",
   "execution_count": 188,
   "id": "d94f5bdd",
   "metadata": {},
   "outputs": [
    {
     "name": "stdout",
     "output_type": "stream",
     "text": [
      "[0, 10001, 1, 10001, 2]\n"
     ]
    },
    {
     "data": {
      "text/plain": [
       "2"
      ]
     },
     "execution_count": 188,
     "metadata": {},
     "output_type": "execute_result"
    }
   ],
   "source": [
    "coinChange(coins, amount)"
   ]
  },
  {
   "cell_type": "code",
   "execution_count": null,
   "id": "321c92fe",
   "metadata": {},
   "outputs": [],
   "source": []
  }
 ],
 "metadata": {
  "kernelspec": {
   "display_name": "Python 3 (ipykernel)",
   "language": "python",
   "name": "python3"
  },
  "language_info": {
   "codemirror_mode": {
    "name": "ipython",
    "version": 3
   },
   "file_extension": ".py",
   "mimetype": "text/x-python",
   "name": "python",
   "nbconvert_exporter": "python",
   "pygments_lexer": "ipython3",
   "version": "3.11.3"
  }
 },
 "nbformat": 4,
 "nbformat_minor": 5
}
