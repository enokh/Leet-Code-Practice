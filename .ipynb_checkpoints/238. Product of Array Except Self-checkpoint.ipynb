{
 "cells": [
  {
   "cell_type": "markdown",
   "id": "f1617a4f",
   "metadata": {},
   "source": [
    "### 238. Product of Array Except Self"
   ]
  },
  {
   "cell_type": "code",
   "execution_count": 48,
   "id": "738d28ca",
   "metadata": {},
   "outputs": [],
   "source": [
    "def productExceptSelf(nums):\n",
    "    \n",
    "    n = len(nums)\n",
    "    \n",
    "    val_l = dict()\n",
    "    val_r = dict()\n",
    "    \n",
    "    s_l = 1\n",
    "    \n",
    "    for i in range(1, n):\n",
    "        s_l *= nums[i-1]\n",
    "        val_l[i] = s_l\n",
    "        \n",
    "    s_r = 1\n",
    "    \n",
    "    for i in range(n-2, -1, -1):\n",
    "        s_r *= nums[i+1]\n",
    "        val_r[i] = s_r    \n",
    "      \n",
    "    output = [val_r[0]]\n",
    "    \n",
    "    for i in range(1,n-1):\n",
    "        output.append(val_l[i]*val_r[i])\n",
    "        \n",
    "        \n",
    "    output.append(s_l)\n",
    "    \n",
    "\n",
    "    \n",
    "    return output\n",
    "    "
   ]
  },
  {
   "cell_type": "code",
   "execution_count": 46,
   "id": "faa8acb8",
   "metadata": {},
   "outputs": [
    {
     "data": {
      "text/plain": [
       "[24, 12, 8, 6]"
      ]
     },
     "execution_count": 46,
     "metadata": {},
     "output_type": "execute_result"
    }
   ],
   "source": [
    "productExceptSelf([1,2,3,4])"
   ]
  },
  {
   "cell_type": "code",
   "execution_count": 47,
   "id": "ef7f23d1",
   "metadata": {},
   "outputs": [
    {
     "data": {
      "text/plain": [
       "[0, 0, 9, 0, 0]"
      ]
     },
     "execution_count": 47,
     "metadata": {},
     "output_type": "execute_result"
    }
   ],
   "source": [
    "productExceptSelf([-1,1,0,-3,3])"
   ]
  }
 ],
 "metadata": {
  "kernelspec": {
   "display_name": "Python 3 (ipykernel)",
   "language": "python",
   "name": "python3"
  },
  "language_info": {
   "codemirror_mode": {
    "name": "ipython",
    "version": 3
   },
   "file_extension": ".py",
   "mimetype": "text/x-python",
   "name": "python",
   "nbconvert_exporter": "python",
   "pygments_lexer": "ipython3",
   "version": "3.11.3"
  }
 },
 "nbformat": 4,
 "nbformat_minor": 5
}
