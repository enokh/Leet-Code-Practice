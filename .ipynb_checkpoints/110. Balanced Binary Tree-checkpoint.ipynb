{
 "cells": [
  {
   "cell_type": "markdown",
   "id": "6167df63",
   "metadata": {},
   "source": [
    "### 110. Balanced Binary Tree"
   ]
  },
  {
   "cell_type": "code",
   "execution_count": 1,
   "id": "6cfd68dd",
   "metadata": {},
   "outputs": [],
   "source": [
    "class TreeNode(object):\n",
    "    def __init__(self, val=0, left=None, right=None):\n",
    "        self.val = val\n",
    "        self.left = left\n",
    "        self.right = right"
   ]
  },
  {
   "cell_type": "code",
   "execution_count": 2,
   "id": "8af7e25b",
   "metadata": {},
   "outputs": [],
   "source": [
    "class Solution(object):\n",
    "    def isBalanced(self, root):\n",
    "        \n",
    "        def check(root):\n",
    "            if root is None:\n",
    "                return True\n",
    "\n",
    "            ls = check(root.left) \n",
    "\n",
    "            if ls == -1:\n",
    "                return -1\n",
    "\n",
    "            rh = check(root.right)\n",
    "\n",
    "            if rh == -1:\n",
    "                return -1\n",
    "\n",
    "            if abs(ls - rh) > 1:\n",
    "                return -1\n",
    "            else:\n",
    "                return max(ls, rh) + 1\n",
    "        return check(root) != -1"
   ]
  },
  {
   "cell_type": "markdown",
   "id": "69440234",
   "metadata": {},
   "source": [
    "#### Test case 1"
   ]
  },
  {
   "cell_type": "code",
   "execution_count": 3,
   "id": "0cc07705",
   "metadata": {},
   "outputs": [],
   "source": [
    "x1 = TreeNode(3)\n",
    "x2 = TreeNode(9)\n",
    "x3 = TreeNode(20)\n",
    "x4 = TreeNode(15)\n",
    "x5 = TreeNode(7)\n",
    "\n",
    "x1.left = x2\n",
    "x1.right = x3\n",
    "x2.left = x4\n",
    "x2.right = x5"
   ]
  },
  {
   "cell_type": "code",
   "execution_count": 4,
   "id": "5811572f",
   "metadata": {},
   "outputs": [
    {
     "data": {
      "text/plain": [
       "True"
      ]
     },
     "execution_count": 4,
     "metadata": {},
     "output_type": "execute_result"
    }
   ],
   "source": [
    "s1 = Solution()\n",
    "s1.isBalanced(x1)"
   ]
  },
  {
   "cell_type": "markdown",
   "id": "3c74013c",
   "metadata": {},
   "source": [
    "#### Test case 2"
   ]
  },
  {
   "cell_type": "code",
   "execution_count": 5,
   "id": "637e16e7",
   "metadata": {},
   "outputs": [],
   "source": [
    "y1 = TreeNode(1)\n",
    "y2 = TreeNode(2)\n",
    "y3 = TreeNode(2)\n",
    "y4 = TreeNode(3)\n",
    "y5 = TreeNode(3)\n",
    "y6 = TreeNode(4)\n",
    "y7 = TreeNode(4)\n",
    "\n",
    "y1.left = y2\n",
    "y1.right = y3\n",
    "y2.left = y4\n",
    "y2.right = y5 \n",
    "y4.left = y6\n",
    "y4.right = y7"
   ]
  },
  {
   "cell_type": "code",
   "execution_count": 6,
   "id": "45e42709",
   "metadata": {},
   "outputs": [
    {
     "data": {
      "text/plain": [
       "False"
      ]
     },
     "execution_count": 6,
     "metadata": {},
     "output_type": "execute_result"
    }
   ],
   "source": [
    "s2 = Solution()\n",
    "s2.isBalanced(y1)"
   ]
  }
 ],
 "metadata": {
  "kernelspec": {
   "display_name": "Python 3 (ipykernel)",
   "language": "python",
   "name": "python3"
  },
  "language_info": {
   "codemirror_mode": {
    "name": "ipython",
    "version": 3
   },
   "file_extension": ".py",
   "mimetype": "text/x-python",
   "name": "python",
   "nbconvert_exporter": "python",
   "pygments_lexer": "ipython3",
   "version": "3.8.12"
  }
 },
 "nbformat": 4,
 "nbformat_minor": 5
}
